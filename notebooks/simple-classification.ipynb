{
  "cells": [
    {
      "cell_type": "markdown",
      "id": "zigYQbFu024X",
      "metadata": {
        "id": "zigYQbFu024X"
      },
      "source": [
        "### Loading modules and data"
      ]
    },
    {
      "cell_type": "code",
      "execution_count": null,
      "id": "46b2086f",
      "metadata": {
        "id": "46b2086f"
      },
      "outputs": [],
      "source": [
        "import os\n",
        "import numpy as np \n",
        "import pandas as pd \n",
        "import matplotlib.pyplot as plt\n",
        "\n",
        "# Scaling\n",
        "from sklearn.preprocessing import RobustScaler\n",
        "\n",
        "# Train Test Split\n",
        "from sklearn.model_selection import train_test_split\n",
        "\n",
        "# Models\n",
        "import torch\n",
        "import torch.nn as nn\n",
        "from sklearn.svm import SVC\n",
        "from sklearn.linear_model import LogisticRegression\n",
        "\n",
        "# Metrics\n",
        "from sklearn.metrics import accuracy_score"
      ]
    },
    {
      "cell_type": "code",
      "execution_count": null,
      "id": "2a5e818b",
      "metadata": {
        "colab": {
          "base_uri": "https://localhost:8080/",
          "height": 206
        },
        "id": "2a5e818b",
        "outputId": "39742653-64e0-4501-a38d-1efce2b713b1"
      },
      "outputs": [
        {
          "data": {
            "text/html": [
              "\n",
              "  <div id=\"df-54643f41-8b1e-4ed9-8477-2af93eee7a87\">\n",
              "    <div class=\"colab-df-container\">\n",
              "      <div>\n",
              "<style scoped>\n",
              "    .dataframe tbody tr th:only-of-type {\n",
              "        vertical-align: middle;\n",
              "    }\n",
              "\n",
              "    .dataframe tbody tr th {\n",
              "        vertical-align: top;\n",
              "    }\n",
              "\n",
              "    .dataframe thead th {\n",
              "        text-align: right;\n",
              "    }\n",
              "</style>\n",
              "<table border=\"1\" class=\"dataframe\">\n",
              "  <thead>\n",
              "    <tr style=\"text-align: right;\">\n",
              "      <th></th>\n",
              "      <th>age</th>\n",
              "      <th>sex</th>\n",
              "      <th>cp</th>\n",
              "      <th>trtbps</th>\n",
              "      <th>chol</th>\n",
              "      <th>fbs</th>\n",
              "      <th>restecg</th>\n",
              "      <th>thalachh</th>\n",
              "      <th>exng</th>\n",
              "      <th>oldpeak</th>\n",
              "      <th>slp</th>\n",
              "      <th>caa</th>\n",
              "      <th>thall</th>\n",
              "      <th>output</th>\n",
              "    </tr>\n",
              "  </thead>\n",
              "  <tbody>\n",
              "    <tr>\n",
              "      <th>0</th>\n",
              "      <td>63</td>\n",
              "      <td>1</td>\n",
              "      <td>3</td>\n",
              "      <td>145</td>\n",
              "      <td>233</td>\n",
              "      <td>1</td>\n",
              "      <td>0</td>\n",
              "      <td>150</td>\n",
              "      <td>0</td>\n",
              "      <td>2.3</td>\n",
              "      <td>0</td>\n",
              "      <td>0</td>\n",
              "      <td>1</td>\n",
              "      <td>1</td>\n",
              "    </tr>\n",
              "    <tr>\n",
              "      <th>1</th>\n",
              "      <td>37</td>\n",
              "      <td>1</td>\n",
              "      <td>2</td>\n",
              "      <td>130</td>\n",
              "      <td>250</td>\n",
              "      <td>0</td>\n",
              "      <td>1</td>\n",
              "      <td>187</td>\n",
              "      <td>0</td>\n",
              "      <td>3.5</td>\n",
              "      <td>0</td>\n",
              "      <td>0</td>\n",
              "      <td>2</td>\n",
              "      <td>1</td>\n",
              "    </tr>\n",
              "    <tr>\n",
              "      <th>2</th>\n",
              "      <td>41</td>\n",
              "      <td>0</td>\n",
              "      <td>1</td>\n",
              "      <td>130</td>\n",
              "      <td>204</td>\n",
              "      <td>0</td>\n",
              "      <td>0</td>\n",
              "      <td>172</td>\n",
              "      <td>0</td>\n",
              "      <td>1.4</td>\n",
              "      <td>2</td>\n",
              "      <td>0</td>\n",
              "      <td>2</td>\n",
              "      <td>1</td>\n",
              "    </tr>\n",
              "    <tr>\n",
              "      <th>3</th>\n",
              "      <td>56</td>\n",
              "      <td>1</td>\n",
              "      <td>1</td>\n",
              "      <td>120</td>\n",
              "      <td>236</td>\n",
              "      <td>0</td>\n",
              "      <td>1</td>\n",
              "      <td>178</td>\n",
              "      <td>0</td>\n",
              "      <td>0.8</td>\n",
              "      <td>2</td>\n",
              "      <td>0</td>\n",
              "      <td>2</td>\n",
              "      <td>1</td>\n",
              "    </tr>\n",
              "    <tr>\n",
              "      <th>4</th>\n",
              "      <td>57</td>\n",
              "      <td>0</td>\n",
              "      <td>0</td>\n",
              "      <td>120</td>\n",
              "      <td>354</td>\n",
              "      <td>0</td>\n",
              "      <td>1</td>\n",
              "      <td>163</td>\n",
              "      <td>1</td>\n",
              "      <td>0.6</td>\n",
              "      <td>2</td>\n",
              "      <td>0</td>\n",
              "      <td>2</td>\n",
              "      <td>1</td>\n",
              "    </tr>\n",
              "  </tbody>\n",
              "</table>\n",
              "</div>\n",
              "      <button class=\"colab-df-convert\" onclick=\"convertToInteractive('df-54643f41-8b1e-4ed9-8477-2af93eee7a87')\"\n",
              "              title=\"Convert this dataframe to an interactive table.\"\n",
              "              style=\"display:none;\">\n",
              "        \n",
              "  <svg xmlns=\"http://www.w3.org/2000/svg\" height=\"24px\"viewBox=\"0 0 24 24\"\n",
              "       width=\"24px\">\n",
              "    <path d=\"M0 0h24v24H0V0z\" fill=\"none\"/>\n",
              "    <path d=\"M18.56 5.44l.94 2.06.94-2.06 2.06-.94-2.06-.94-.94-2.06-.94 2.06-2.06.94zm-11 1L8.5 8.5l.94-2.06 2.06-.94-2.06-.94L8.5 2.5l-.94 2.06-2.06.94zm10 10l.94 2.06.94-2.06 2.06-.94-2.06-.94-.94-2.06-.94 2.06-2.06.94z\"/><path d=\"M17.41 7.96l-1.37-1.37c-.4-.4-.92-.59-1.43-.59-.52 0-1.04.2-1.43.59L10.3 9.45l-7.72 7.72c-.78.78-.78 2.05 0 2.83L4 21.41c.39.39.9.59 1.41.59.51 0 1.02-.2 1.41-.59l7.78-7.78 2.81-2.81c.8-.78.8-2.07 0-2.86zM5.41 20L4 18.59l7.72-7.72 1.47 1.35L5.41 20z\"/>\n",
              "  </svg>\n",
              "      </button>\n",
              "      \n",
              "  <style>\n",
              "    .colab-df-container {\n",
              "      display:flex;\n",
              "      flex-wrap:wrap;\n",
              "      gap: 12px;\n",
              "    }\n",
              "\n",
              "    .colab-df-convert {\n",
              "      background-color: #E8F0FE;\n",
              "      border: none;\n",
              "      border-radius: 50%;\n",
              "      cursor: pointer;\n",
              "      display: none;\n",
              "      fill: #1967D2;\n",
              "      height: 32px;\n",
              "      padding: 0 0 0 0;\n",
              "      width: 32px;\n",
              "    }\n",
              "\n",
              "    .colab-df-convert:hover {\n",
              "      background-color: #E2EBFA;\n",
              "      box-shadow: 0px 1px 2px rgba(60, 64, 67, 0.3), 0px 1px 3px 1px rgba(60, 64, 67, 0.15);\n",
              "      fill: #174EA6;\n",
              "    }\n",
              "\n",
              "    [theme=dark] .colab-df-convert {\n",
              "      background-color: #3B4455;\n",
              "      fill: #D2E3FC;\n",
              "    }\n",
              "\n",
              "    [theme=dark] .colab-df-convert:hover {\n",
              "      background-color: #434B5C;\n",
              "      box-shadow: 0px 1px 3px 1px rgba(0, 0, 0, 0.15);\n",
              "      filter: drop-shadow(0px 1px 2px rgba(0, 0, 0, 0.3));\n",
              "      fill: #FFFFFF;\n",
              "    }\n",
              "  </style>\n",
              "\n",
              "      <script>\n",
              "        const buttonEl =\n",
              "          document.querySelector('#df-54643f41-8b1e-4ed9-8477-2af93eee7a87 button.colab-df-convert');\n",
              "        buttonEl.style.display =\n",
              "          google.colab.kernel.accessAllowed ? 'block' : 'none';\n",
              "\n",
              "        async function convertToInteractive(key) {\n",
              "          const element = document.querySelector('#df-54643f41-8b1e-4ed9-8477-2af93eee7a87');\n",
              "          const dataTable =\n",
              "            await google.colab.kernel.invokeFunction('convertToInteractive',\n",
              "                                                     [key], {});\n",
              "          if (!dataTable) return;\n",
              "\n",
              "          const docLinkHtml = 'Like what you see? Visit the ' +\n",
              "            '<a target=\"_blank\" href=https://colab.research.google.com/notebooks/data_table.ipynb>data table notebook</a>'\n",
              "            + ' to learn more about interactive tables.';\n",
              "          element.innerHTML = '';\n",
              "          dataTable['output_type'] = 'display_data';\n",
              "          await google.colab.output.renderOutput(dataTable, element);\n",
              "          const docLink = document.createElement('div');\n",
              "          docLink.innerHTML = docLinkHtml;\n",
              "          element.appendChild(docLink);\n",
              "        }\n",
              "      </script>\n",
              "    </div>\n",
              "  </div>\n",
              "  "
            ],
            "text/plain": [
              "   age  sex  cp  trtbps  chol  fbs  restecg  thalachh  exng  oldpeak  slp  \\\n",
              "0   63    1   3     145   233    1        0       150     0      2.3    0   \n",
              "1   37    1   2     130   250    0        1       187     0      3.5    0   \n",
              "2   41    0   1     130   204    0        0       172     0      1.4    2   \n",
              "3   56    1   1     120   236    0        1       178     0      0.8    2   \n",
              "4   57    0   0     120   354    0        1       163     1      0.6    2   \n",
              "\n",
              "   caa  thall  output  \n",
              "0    0      1       1  \n",
              "1    0      2       1  \n",
              "2    0      2       1  \n",
              "3    0      2       1  \n",
              "4    0      2       1  "
            ]
          },
          "execution_count": 4,
          "metadata": {},
          "output_type": "execute_result"
        }
      ],
      "source": [
        "df = pd.read_csv(\"data/heart.csv\")\n",
        "df.head()"
      ]
    },
    {
      "cell_type": "markdown",
      "id": "1xkcxf453nZx",
      "metadata": {
        "id": "1xkcxf453nZx"
      },
      "source": [
        "## Preprocessing data"
      ]
    },
    {
      "cell_type": "markdown",
      "id": "pCV3h0hP0y9N",
      "metadata": {
        "id": "pCV3h0hP0y9N"
      },
      "source": [
        "### Detecting and dealing with outliers"
      ]
    },
    {
      "cell_type": "markdown",
      "id": "kpGXFVyjGX_F",
      "metadata": {
        "id": "kpGXFVyjGX_F"
      },
      "source": [
        "#### Detect outliers"
      ]
    },
    {
      "cell_type": "code",
      "execution_count": null,
      "id": "oSm85P3k4I_9",
      "metadata": {
        "id": "oSm85P3k4I_9"
      },
      "outputs": [],
      "source": [
        "from scipy import stats\n",
        "import numpy as np\n",
        "\n",
        "def present_outliers(arr):\n",
        "    vals, freq = np.unique(arr[0], return_counts=True)\n",
        "    print(vals, freq)\n",
        "    counts = {cols[i[0]]:i[1] for i in zip(vals, freq)}\n",
        "    row_ind = np.unique(arr[1])\n",
        "    print(\"Outlier count: \", counts)\n",
        "    print(\"Outlier row indices: \", row_ind)\n",
        "\n",
        "# IQR\n",
        "def detect_outliers_iqr(df, cols):\n",
        "    Q1 = np.array([np.percentile(df[cat], 25, interpolation = 'midpoint') for cat in cols])\n",
        "    Q3 = np.array([np.percentile(df[cat], 75, interpolation = 'midpoint') for cat in cols])\n",
        "    IQR = Q3 - Q1\n",
        "    u = Q3 + 1.5*IQR\n",
        "    l = Q1 - 1.5*IQR\n",
        "    upper = np.asarray(df[cols] >= (Q3+1.5*IQR)).nonzero()\n",
        "    # print(\"Upper bound:\",upper)\n",
        "    lower = np.asarray(df[cols] <= (Q1-1.5*IQR)).nonzero()\n",
        "    # print(\"Lower bound:\", lower)\n",
        "    outliers = np.concatenate((lower, upper), axis=1)\n",
        "    outliers[[0,1]] = outliers[[1,0]]\n",
        "    return outliers\n",
        "\n",
        "# Z score\n",
        "def detect_outliers_z(df, cols, thresh=3):\n",
        "    z = np.array([abs(stats.zscore(df[cat])) for cat in cols])\n",
        "    outliers = np.asarray(z>thresh).nonzero()\n",
        "    return outliers"
      ]
    },
    {
      "cell_type": "code",
      "execution_count": null,
      "id": "V-xasex9Gjbx",
      "metadata": {
        "colab": {
          "base_uri": "https://localhost:8080/"
        },
        "id": "V-xasex9Gjbx",
        "outputId": "0183c710-0240-4ed6-f7b1-ff99fec5b4eb"
      },
      "outputs": [
        {
          "name": "stdout",
          "output_type": "stream",
          "text": [
            "(array([1, 1, 2, 2, 2, 2, 3, 4, 4]), array([223, 248,  28,  85, 220, 246, 272, 204, 221]))\n",
            "[1 2 3 4] [2 4 1 2]\n",
            "Outlier count:  {'trtbps': 2, 'chol': 4, 'thalachh': 1, 'oldpeak': 2}\n",
            "Outlier row indices:  [ 28  85 204 220 221 223 246 248 272]\n"
          ]
        }
      ],
      "source": [
        "cols = ['age', 'trtbps', 'chol', 'thalachh', 'oldpeak']\n",
        "outliers_z = detect_outliers_z(df, cols)\n",
        "print(outliers_z)\n",
        "present_outliers(outliers_z)"
      ]
    },
    {
      "cell_type": "code",
      "execution_count": null,
      "id": "Mq_omXboblu_",
      "metadata": {
        "colab": {
          "base_uri": "https://localhost:8080/"
        },
        "id": "Mq_omXboblu_",
        "outputId": "426b9877-ade8-46fe-8ab3-2b3e86c304f6"
      },
      "outputs": [
        {
          "name": "stdout",
          "output_type": "stream",
          "text": [
            "[[  3   1   2   2   2   1   4   1   1   1   1   4   2   4   4   1   4   1\n",
            "    1   2   1   4   1   1   4   1   4]\n",
            " [272   8  28  85  96 101 101 110 152 195 203 204 220 220 221 223 223 228\n",
            "  241 246 248 250 260 266 291 292 295]]\n",
            "[1 2 3 4] [13  5  1  8]\n",
            "Outlier count:  {'trtbps': 13, 'chol': 5, 'thalachh': 1, 'oldpeak': 8}\n",
            "Outlier row indices:  [  8  28  85  96 101 110 152 195 203 204 220 221 223 228 241 246 248 250\n",
            " 260 266 272 291 292 295]\n"
          ]
        }
      ],
      "source": [
        "outliers_iqr = detect_outliers_iqr(df, cols)\n",
        "print(outliers_iqr)\n",
        "present_outliers(outliers_iqr)"
      ]
    },
    {
      "cell_type": "markdown",
      "id": "SYF2rnPhGeZI",
      "metadata": {
        "id": "SYF2rnPhGeZI"
      },
      "source": [
        "#### Remove outliers"
      ]
    },
    {
      "cell_type": "code",
      "execution_count": null,
      "id": "-1e2NtzOGVHc",
      "metadata": {
        "id": "-1e2NtzOGVHc"
      },
      "outputs": [],
      "source": [
        "# Remove outliers\n",
        "\n",
        "# mask_iqr = np.ones(len(df), dtype=bool)\n",
        "# mask_iqr[outliers_iqr[1]] = False\n",
        "# data_clean_iqr = df[mask_iqr]\n",
        "\n",
        "# mask_z = np.ones(len(df), dtype=bool)\n",
        "# mask_z[outliers_z[1]] = False\n",
        "# data_clean_z = df[mask_z]\n",
        "# print(data_clean_iqr.shape, df.shape, data_clean_z.shape)"
      ]
    },
    {
      "cell_type": "markdown",
      "id": "FO_iCJ87Gm6B",
      "metadata": {
        "id": "FO_iCJ87Gm6B"
      },
      "source": [
        "#### Log-transform"
      ]
    },
    {
      "cell_type": "code",
      "execution_count": null,
      "id": "k4r6DMXcETDw",
      "metadata": {
        "id": "k4r6DMXcETDw"
      },
      "outputs": [],
      "source": [
        "from itertools import chain, combinations\n",
        "\n",
        "def powerset(iterable):\n",
        "    \"list(powerset([1,2,3])) --> [(), (1,), (2,), (3,), (1,2), (1,3), (2,3), (1,2,3)]\"\n",
        "    s = list(iterable)\n",
        "    return chain.from_iterable(combinations(s, r) for r in range(len(s)+1))\n",
        "\n",
        "def optimize_log_transform(df, cols):\n",
        "    \"\"\"\n",
        "    Find categories whose transformation minimizes the number of outliers\n",
        "    \"\"\"\n",
        "    col_powerset = powerset(cols)\n",
        "    min_count = np.inf\n",
        "    log_transform_cols = []\n",
        "    for col_perm in col_powerset:\n",
        "        col_perm = list(col_perm)\n",
        "        data_clean_log = pd.DataFrame.copy(df)\n",
        "        # data_clean_log = df\n",
        "        data_clean_log[col_perm] = np.log(data_clean_log[col_perm])\n",
        "        count_outliers = len(np.unique(detect_outliers_iqr(data_clean_log, cols)))\n",
        "        # print(min_count, count_outliers, col_perm)\n",
        "        if count_outliers < min_count:\n",
        "            min_count = count_outliers\n",
        "            log_transform_cols = col_perm\n",
        "    return (min_count, log_transform_cols)"
      ]
    },
    {
      "cell_type": "markdown",
      "id": "aCa4pdKRkTOR",
      "metadata": {
        "id": "aCa4pdKRkTOR"
      },
      "source": [
        "### Other"
      ]
    },
    {
      "cell_type": "code",
      "execution_count": null,
      "id": "tP5MAk8Rjz9P",
      "metadata": {
        "id": "tP5MAk8Rjz9P"
      },
      "outputs": [],
      "source": [
        "# define the columns to be encoded and scaled\n",
        "cat_cols = ['sex','exng','caa','cp','fbs','restecg','slp','thall']\n",
        "con_cols = [\"age\",\"trtbps\",\"chol\",\"thalachh\",\"oldpeak\"]\n",
        "\n",
        "def process_data(df, cat_cols, con_cols):\n",
        "  # encoding the categorical columns\n",
        "  df = pd.get_dummies(df, columns = cat_cols, drop_first = True)\n",
        "  # defining the features and target\n",
        "  X = df.drop(['output'],axis=1)\n",
        "  y = df[['output']]\n",
        "  # instantiating the scaler\n",
        "  scaler = RobustScaler()\n",
        "  # scaling the continuous featuree\n",
        "  X[con_cols] = scaler.fit_transform(X[con_cols])\n",
        "  return X, y"
      ]
    },
    {
      "cell_type": "code",
      "execution_count": null,
      "id": "Wt2rJ_OHjsGL",
      "metadata": {
        "colab": {
          "base_uri": "https://localhost:8080/",
          "height": 178
        },
        "id": "Wt2rJ_OHjsGL",
        "outputId": "50864002-dc94-4eb7-dc7c-35748ac18342"
      },
      "outputs": [
        {
          "name": "stdout",
          "output_type": "stream",
          "text": [
            "Number of zero values by feature\n",
            "age          0\n",
            "trtbps       0\n",
            "chol         0\n",
            "thalachh     0\n",
            "oldpeak     99\n",
            "dtype: int64\n"
          ]
        },
        {
          "data": {
            "image/png": "[encoded data removed]",
            "text/plain": [
              "<Figure size 432x288 with 1 Axes>"
            ]
          },
          "metadata": {
            "needs_background": "light"
          },
          "output_type": "display_data"
        }
      ],
      "source": [
        "# untransformed data\n",
        "df_base = pd.DataFrame.copy(df)\n",
        "X, y = process_data(df_base, cat_cols, con_cols)\n",
        "\n",
        "print(\"Number of zero values by feature\")\n",
        "print((df[df==0]).count()[con_cols])\n",
        "con_cols_pos = [x for x in con_cols if x!=\"oldpeak\"] # transform only columns with positive values\n",
        "import seaborn as sns\n",
        "sns.kdeplot(data=df, x=\"oldpeak\", hue=\"output\")\n",
        "plt.title(\"Distribution of 'oldpeak'\")\n",
        "\n",
        "# log-transform data before processing\n",
        "df_log = pd.DataFrame.copy(df)\n",
        "# transform cols that minimize outlier count\n",
        "min_outlier_count, log_transform_cols = optimize_log_transform(df_log, con_cols_pos)\n",
        "df_log[log_transform_cols] = np.log(df_log[log_transform_cols])\n",
        "X_log, y_log = process_data(df_log, cat_cols, con_cols)\n",
        "\n",
        "df_log1 = pd.DataFrame.copy(df)\n",
        "# transform all cols\n",
        "df_log1[con_cols_pos] = np.log(df_log1[con_cols_pos])\n",
        "X_log1, y_log1 = process_data(df_log1, cat_cols, con_cols)"
      ]
    },
    {
      "cell_type": "code",
      "execution_count": null,
      "id": "0bce4dce",
      "metadata": {
        "id": "0bce4dce"
      },
      "outputs": [],
      "source": [
        "X_train, X_test, y_train, y_test = train_test_split(X,y, test_size = 0.2, random_state = 42)\n",
        "X_log_train, X_log_test, y_log_train, y_log_test = train_test_split(X_log,y_log, test_size = 0.2, random_state = 42)\n",
        "X_log1_train, X_log1_test, y_log1_train, y_log1_test = train_test_split(X_log1, y_log1, test_size = 0.2, random_state = 42)"
      ]
    },
    {
      "cell_type": "markdown",
      "id": "dUURGIm53tTo",
      "metadata": {
        "id": "dUURGIm53tTo"
      },
      "source": [
        "## Models"
      ]
    },
    {
      "cell_type": "markdown",
      "id": "XviQ8CXX3R_S",
      "metadata": {
        "id": "XviQ8CXX3R_S"
      },
      "source": [
        "### SVM"
      ]
    },
    {
      "cell_type": "markdown",
      "id": "UtaLa31miDAd",
      "metadata": {
        "id": "UtaLa31miDAd"
      },
      "source": [
        "##### Custom"
      ]
    },
    {
      "cell_type": "code",
      "execution_count": null,
      "id": "i4Ku2jEXrkJD",
      "metadata": {
        "id": "i4Ku2jEXrkJD"
      },
      "outputs": [],
      "source": [
        "class SVM_():\n",
        "\n",
        "    def __init__(self, learning_rate=0.1, max_iter=1000, C = 0.1, tolerance = 1e-4):\n",
        "        self.learning_rate  = learning_rate\n",
        "        self.max_iter       = max_iter\n",
        "        self.C              = C\n",
        "        self.tolerance      = tolerance\n",
        "    \n",
        "    def fit(self, X, y, verbose=False):\n",
        "\n",
        "        self.theta = np.zeros(X.shape[1] + 1)\n",
        "        X = np.concatenate((np.ones((X.shape[0], 1)), X), axis=1)\n",
        "        y = y.to_numpy()\n",
        "\n",
        "        for i in range(self.max_iter):\n",
        "            dists = 1 - (y.T*(X @ self.theta)).T\n",
        "            N = X.shape[1]\n",
        "            # print(res.shape, X.shape, y.shape, dists.shape, self.theta.shape, (y.T*(X @ self.theta)).shape)\n",
        "            delta_grad = np.where(dists>0, self.theta-self.C*y*X, self.theta).sum(axis=0)\n",
        "            # print(delta_grad.shape)\n",
        "            if np.all(abs(delta_grad) >= self.tolerance):\n",
        "                self.theta -= self.learning_rate/N * delta_grad\n",
        "                if verbose:\n",
        "                    print(i, self.cost(X[:, 1:], y))\n",
        "            else:\n",
        "                break\n",
        "                \n",
        "        return self\n",
        "\n",
        "    def predict(self, X):\n",
        "        return np.sign(X @ self.theta[1:] + self.theta[0])\n",
        "\n",
        "    def cost(self, X, y):\n",
        "        dists = 1 - (y.T*(X @ self.theta[1:] + self.theta[0])).T\n",
        "        dists[dists<0] = 0\n",
        "        return 1/2 * np.dot(self.theta, self.theta) + self.C/X.shape[0] * dists.sum()\n"
      ]
    },
    {
      "cell_type": "code",
      "execution_count": null,
      "id": "qJUc1ftdep6r",
      "metadata": {
        "colab": {
          "base_uri": "https://localhost:8080/"
        },
        "id": "qJUc1ftdep6r",
        "outputId": "877f2ded-0135-4278-91e2-1ba86e005dd7"
      },
      "outputs": [
        {
          "name": "stdout",
          "output_type": "stream",
          "text": [
            "0.001 0.01 0.5245901639344263\n",
            "0.0010974987654930556 0.01 0.5245901639344263\n",
            "0.0012045035402587824 0.01 0.5245901639344263\n",
            "0.0013219411484660286 0.01 0.5245901639344263\n",
            "0.0014508287784959402 0.01 0.5245901639344263\n",
            "0.0015922827933410922 0.01 0.5245901639344263\n",
            "0.001747528400007683 0.01 0.5245901639344263\n",
            "0.0019179102616724887 0.01 0.5245901639344263\n",
            "0.00210490414451202 0.01 0.5245901639344263\n",
            "0.0023101297000831605 0.01 0.5245901639344263\n",
            "0.0025353644939701114 0.01 0.5245901639344263\n",
            "0.0027825594022071257 0.01 0.5245901639344263\n",
            "0.0030538555088334154 0.01 0.5245901639344263\n",
            "0.003351602650938841 0.01 0.5245901639344263\n",
            "0.0036783797718286343 0.01 0.5245901639344263\n",
            "0.004037017258596553 0.01 0.5245901639344263\n",
            "0.004430621457583882 0.01 0.5245901639344263\n",
            "0.004862601580065354 0.01 0.5245901639344263\n",
            "0.005336699231206312 0.01 0.5245901639344263\n",
            "0.005857020818056668 0.01 0.5245901639344263\n",
            "0.006428073117284319 0.01 0.5245901639344263\n",
            "0.007054802310718645 0.01 0.5245901639344263\n",
            "0.007742636826811269 0.01 0.5245901639344263\n",
            "0.008497534359086447 0.01 0.5245901639344263\n",
            "0.0093260334688322 0.01 0.5245901639344263\n",
            "0.010235310218990263 0.01 0.5245901639344263\n",
            "0.011233240329780276 0.01 0.5245901639344263\n",
            "0.012328467394420665 0.01 0.5245901639344263\n",
            "0.013530477745798075 0.01 0.5245901639344263\n",
            "0.01484968262254465 0.01 0.5245901639344263\n",
            "0.016297508346206444 0.01 0.5245901639344263\n",
            "0.01788649529057435 0.01 0.5245901639344263\n",
            "0.019630406500402715 0.01 0.5245901639344263\n",
            "0.021544346900318846 0.01 0.5245901639344263\n",
            "0.023644894126454083 0.01 0.5245901639344263\n",
            "0.025950242113997372 0.01 0.5245901639344263\n",
            "0.02848035868435802 0.01 0.5245901639344263\n",
            "0.03125715849688237 0.01 0.5245901639344263\n",
            "0.03430469286314919 0.01 0.5245901639344263\n",
            "0.037649358067924694 0.01 0.5245901639344263\n",
            "0.04132012400115339 0.01 0.5245901639344263\n",
            "0.04534878508128584 0.01 0.5245901639344263\n",
            "0.049770235643321115 0.01 0.5245901639344263\n",
            "0.05462277217684343 0.01 0.5245901639344263\n",
            "0.05994842503189412 0.01 0.5245901639344263\n",
            "0.06579332246575682 0.01 0.5245901639344263\n",
            "0.07220809018385467 0.01 0.5245901639344263\n",
            "0.07924828983539177 0.01 0.5245901639344263\n",
            "0.08697490026177834 0.01 0.5245901639344263\n",
            "0.09545484566618342 0.01 0.5245901639344263\n",
            "0.10476157527896651 0.01 0.5245901639344263\n",
            "0.11497569953977368 0.01 0.5245901639344263\n",
            "0.1261856883066021 0.01 0.5245901639344263\n",
            "0.1384886371393873 0.01 0.5245901639344263\n",
            "0.15199110829529347 0.01 0.5245901639344263\n",
            "0.1668100537200059 0.01 0.5245901639344263\n",
            "0.18307382802953698 0.01 0.5245901639344263\n",
            "0.2009233002565048 0.01 0.5245901639344263\n",
            "0.22051307399030456 0.01 0.5245901639344263\n",
            "0.24201282647943834 0.01 0.5245901639344263\n",
            "0.26560877829466867 0.01 0.5245901639344263\n",
            "0.29150530628251786 0.01 0.5245901639344263\n",
            "0.31992671377973847 0.01 0.5245901639344263\n",
            "0.35111917342151344 0.01 0.5245901639344263\n",
            "0.3853528593710531 0.01 0.5245901639344263\n",
            "0.4229242874389499 0.01 0.5245901639344263\n",
            "0.4641588833612782 0.01 0.5245901639344263\n",
            "0.5094138014816381 0.01 0.5245901639344263\n",
            "0.5590810182512228 0.01 0.5245901639344263\n",
            "0.6135907273413176 0.01 0.5245901639344263\n",
            "0.6734150657750828 0.01 0.5245901639344263\n",
            "0.7390722033525783 0.01 0.5245901639344263\n",
            "0.8111308307896873 0.01 0.5245901639344263\n",
            "0.8902150854450392 0.01 0.5245901639344263\n",
            "0.9770099572992257 0.01 0.5245901639344263\n",
            "1.0722672220103242 0.01 0.5245901639344263\n",
            "1.1768119524349991 0.01 0.5245901639344263\n",
            "1.291549665014884 0.01 0.5245901639344263\n",
            "1.4174741629268062 0.01 0.5245901639344263\n",
            "1.5556761439304723 0.01 0.5245901639344263\n",
            "1.7073526474706922 0.01 0.5245901639344263\n",
            "1.873817422860385 0.01 0.5245901639344263\n",
            "2.0565123083486534 0.01 0.5245901639344263\n",
            "2.2570197196339215 0.01 0.5245901639344263\n",
            "2.4770763559917115 0.01 0.5245901639344263\n",
            "2.718588242732943 0.01 0.5245901639344263\n",
            "2.9836472402833403 0.01 0.5245901639344263\n",
            "3.2745491628777317 0.01 0.5245901639344263\n",
            "3.5938136638046294 0.01 0.5245901639344263\n",
            "3.94420605943766 0.01 0.5245901639344263\n",
            "4.328761281083062 0.01 0.5245901639344263\n",
            "4.750810162102798 0.01 0.5245901639344263\n",
            "5.21400828799969 0.01 0.5245901639344263\n",
            "5.72236765935022 0.01 0.5245901639344263\n",
            "6.280291441834259 0.01 0.5245901639344263\n",
            "6.892612104349702 0.01 0.5245901639344263\n",
            "7.56463327554629 0.01 0.5245901639344263\n",
            "8.302175681319753 0.01 0.5245901639344263\n",
            "9.111627561154895 0.01 0.5245901639344263\n",
            "10.0 0.01 0.5245901639344263\n"
          ]
        }
      ],
      "source": [
        "c_values = np.logspace(-3, 1, 100)\n",
        "# c_values = [0.37]\n",
        "# learning_rate = np.logspace(0.001, 1, 50)\n",
        "learning_rate = [0.01]\n",
        "for c in c_values:\n",
        "        for lr in learning_rate:\n",
        "            svm = SVM_(C=c, learning_rate=lr, max_iter=10000)\n",
        "            svm.fit(X_train, y_train)\n",
        "            y_pred = svm.predict(X_test)\n",
        "            print(c, lr, accuracy_score(y_test, y_pred))"
      ]
    },
    {
      "cell_type": "markdown",
      "id": "9HAHbSe5h85u",
      "metadata": {
        "id": "9HAHbSe5h85u"
      },
      "source": [
        "##### Sklearn"
      ]
    },
    {
      "cell_type": "code",
      "execution_count": null,
      "id": "080820ee",
      "metadata": {
        "colab": {
          "base_uri": "https://localhost:8080/"
        },
        "id": "080820ee",
        "outputId": "609ab43c-31e4-46aa-b5f0-1f3b0c3d73ca"
      },
      "outputs": [
        {
          "name": "stdout",
          "output_type": "stream",
          "text": [
            "The test accuracy score of SVM (linear) is  0.8852459016393442\n",
            "The test accuracy score of SVM (rbf) is  0.9016393442622951\n",
            "The test accuracy score of SVM (rbf) is  0.9016393442622951\n",
            "The test accuracy score of SVM (rbf) is  0.8852459016393442\n",
            "The test accuracy score of SVM (sigmoid) is  0.8688524590163934\n"
          ]
        }
      ],
      "source": [
        "for k in ['linear']:\n",
        "  # for c in np.linspace(0.360, 0.404, 30):\n",
        "  for c in [0.38]:\n",
        "    clf = SVC(kernel=k, C=c, random_state=42).fit(X_train,np.ravel(y_train))\n",
        "    y_pred = clf.predict(X_test)\n",
        "    print(f\"The test accuracy score of SVM ({k}) is \", accuracy_score(y_test, y_pred))\n",
        "for k in ['rbf']:\n",
        "  # for c in np.linspace(1.41, 1.645, 40):\n",
        "  # for c in np.linspace(0.0001,10, 50):\n",
        "  for c in [1.5]:\n",
        "   for (Xtr, Xte, ytr, yte) in [\n",
        "       (X_train, X_test, y_train, y_test),\n",
        "       (X_log_train, X_log_test, y_log_train, y_log_test),\n",
        "       (X_log1_train, X_log1_test, y_log1_train, y_log1_test)\n",
        "    ]:\n",
        "    clf = SVC(kernel=k, C=c, random_state=42).fit(Xtr,np.ravel(ytr))\n",
        "    y_pred = clf.predict(Xte)\n",
        "    print(f\"The test accuracy score of SVM ({k}) is \", accuracy_score(yte, y_pred))\n",
        "for k in ['sigmoid']:\n",
        "  # for c in np.linspace(0.97, 0.95, 100):\n",
        "  for c in [0.96]:\n",
        "    clf = SVC(kernel=k, C=c, random_state=42).fit(X_train,np.ravel(y_train))\n",
        "    y_pred = clf.predict(X_test)\n",
        "    print(f\"The test accuracy score of SVM ({k}) is \", accuracy_score(y_test, y_pred))"
      ]
    },
    {
      "cell_type": "markdown",
      "id": "S4alZAAo1KoX",
      "metadata": {
        "id": "S4alZAAo1KoX"
      },
      "source": [
        "### Logistic regression"
      ]
    },
    {
      "cell_type": "markdown",
      "id": "MupTrRYNe5_p",
      "metadata": {
        "id": "MupTrRYNe5_p"
      },
      "source": [
        "##### Pytorch"
      ]
    },
    {
      "cell_type": "code",
      "execution_count": null,
      "id": "q0F3eYg_h0go",
      "metadata": {
        "id": "q0F3eYg_h0go"
      },
      "outputs": [],
      "source": [
        "class TorchLogisticRegression(torch.nn.Module):\n",
        "    def __init__(self,no_input_features):\n",
        "        super(TorchLogisticRegression,self).__init__()\n",
        "        self.layer=torch.nn.Linear(no_input_features,1)\n",
        "\n",
        "    def forward(self,x):\n",
        "        y_predicted=torch.sigmoid(self.layer(x))\n",
        "        return y_predicted\n",
        "\n",
        "def torch_fit_predict(x_train, x_test, y_train, y_test, lr=0.01, max_iter=10000, C=0, verbose=False):\n",
        "    n_samples,n_features=X.shape\n",
        "    torch_logreg = TorchLogisticRegression(n_features)\n",
        "    criterion=torch.nn.BCELoss()                                # loss function\n",
        "    optimizer=torch.optim.SGD(torch_logreg.parameters(), lr=lr, weight_decay=C) # gradient descent\n",
        "\n",
        "    for epoch in range(max_iter):\n",
        "        y_pred=torch_logreg(x_train)\n",
        "        loss=criterion(y_pred,y_train)\n",
        "        loss.backward()\n",
        "        optimizer.step()\n",
        "        optimizer.zero_grad()\n",
        "        if verbose:\n",
        "            print('epoch:', epoch+1,', loss: ', loss.item())\n",
        "\n",
        "    with torch.no_grad():\n",
        "        y_pred = torch_logreg(x_test).round()\n",
        "        print(\n",
        "            \"The test accuracy score of a Pytorch Logistic Regression is: \", \n",
        "            accuracy_score(y_test, y_pred)\n",
        "            )"
      ]
    },
    {
      "cell_type": "code",
      "execution_count": null,
      "id": "WCCIOXPOLw_x",
      "metadata": {
        "colab": {
          "base_uri": "https://localhost:8080/"
        },
        "id": "WCCIOXPOLw_x",
        "outputId": "dd03ba13-131a-4c43-ed7c-6b3f0c93628e"
      },
      "outputs": [
        {
          "name": "stdout",
          "output_type": "stream",
          "text": [
            "The test accuracy score of a Pytorch Logistic Regression is:  0.9016393442622951\n",
            "The test accuracy score of a Pytorch Logistic Regression is:  0.8852459016393442\n",
            "The test accuracy score of a Pytorch Logistic Regression is:  0.9016393442622951\n",
            "The test accuracy score of a Pytorch Logistic Regression is:  0.9016393442622951\n",
            "The test accuracy score of a Pytorch Logistic Regression is:  0.9016393442622951\n",
            "The test accuracy score of a Pytorch Logistic Regression is:  0.9016393442622951\n",
            "The test accuracy score of a Pytorch Logistic Regression is:  0.9016393442622951\n",
            "The test accuracy score of a Pytorch Logistic Regression is:  0.8852459016393442\n",
            "The test accuracy score of a Pytorch Logistic Regression is:  0.9016393442622951\n",
            "The test accuracy score of a Pytorch Logistic Regression is:  0.9016393442622951\n"
          ]
        }
      ],
      "source": [
        "x_train_torch=torch.tensor(X_train.values).float()\n",
        "x_test_torch=torch.tensor(X_test.values).float()\n",
        "y_train_torch=torch.tensor(y_train.values).view(y_train.shape[0],1).float()\n",
        "y_test_torch=torch.tensor(y_test.values).view(y_test.shape[0],1).float()\n",
        "\n",
        "for c in np.logspace(0.1, 10, 10):\n",
        "    torch_fit_predict(x_train_torch, x_test_torch, y_train_torch, y_test_torch)"
      ]
    },
    {
      "cell_type": "markdown",
      "id": "_mZAjB4qe112",
      "metadata": {
        "id": "_mZAjB4qe112"
      },
      "source": [
        "##### Custom"
      ]
    },
    {
      "cell_type": "code",
      "execution_count": null,
      "id": "VBclzt7kK2fv",
      "metadata": {
        "id": "VBclzt7kK2fv"
      },
      "outputs": [],
      "source": [
        "class LogisticRegression_():\n",
        "\n",
        "    def __init__(self, learning_rate=0.1, max_iter=100, regularization='l2', C = 0.1, tolerance = 1e-4):\n",
        "        self.learning_rate  = learning_rate\n",
        "        self.max_iter       = max_iter\n",
        "        self.regularization = regularization\n",
        "        self.C              = C\n",
        "        self.tolerance      = tolerance\n",
        "    \n",
        "    def fit(self, X, y, verbose=False):\n",
        "\n",
        "        self.theta = np.zeros(X.shape[1] + 1)\n",
        "        X = np.concatenate((np.ones((X.shape[0], 1)), X), axis=1)\n",
        "        y = y.to_numpy()\n",
        "        for i in range(self.max_iter):\n",
        "        \n",
        "            errors = (self.__sigmoid(X @ self.theta)) - y\n",
        "            N = X.shape[1]\n",
        "\n",
        "            if self.regularization == 'l2':\n",
        "                delta_grad = np.sum((X.T @ errors).T, axis=0) + self.C*self.theta\n",
        "                # print((X.T @ errors).shape)\n",
        "            else:\n",
        "                delta_grad = np.sum((X.T @ errors).T, axis=0)\n",
        "\n",
        "            if np.all(abs(delta_grad) >= self.tolerance):\n",
        "                self.theta -= self.learning_rate/N * delta_grad\n",
        "                if verbose:\n",
        "                    print(i, self.cost(X[:, 1:], y))\n",
        "            else:\n",
        "                break\n",
        "                \n",
        "        return self\n",
        "\n",
        "    def predict(self, X):\n",
        "        return np.round(self.__sigmoid((X @ self.theta[1:]) + self.theta[0]))\n",
        "        \n",
        "    def __sigmoid(self, X):\n",
        "        return 1/2 * (1 + np.tanh(1/2 * X))\n",
        "    \n",
        "    def cost(self, X, y):\n",
        "        m = X.shape[1]\n",
        "        h = self.__sigmoid(X @ self.theta[1:] + self.theta[0])\n",
        "        epsilon = 1e-5\n",
        "        return -(1/m)* (y.T @ np.log(h + epsilon)+(1-y).T @ np.log(1-h + epsilon)\n",
        "         + 1/2*self.C * np.dot(self.theta[1:], self.theta[1:]))\n"
      ]
    },
    {
      "cell_type": "code",
      "execution_count": null,
      "id": "hBu0GfUKej9r",
      "metadata": {
        "colab": {
          "base_uri": "https://localhost:8080/"
        },
        "id": "hBu0GfUKej9r",
        "outputId": "7ccf9bbe-ca5d-43ff-9914-bdd661d7bc0d"
      },
      "outputs": [
        {
          "name": "stdout",
          "output_type": "stream",
          "text": [
            "The test accuracy score of a custom Logistic Regression is:  0.8524590163934426\n"
          ]
        }
      ],
      "source": [
        "solvers = ['liblinear']\n",
        "penalty = ['l2']\n",
        "# c_values = np.linspace(0.001, 10, 10)\n",
        "c_values = [1.0]\n",
        "# learning_rate = np.linspace(0.001, 0.1, 4)\n",
        "learning_rate = [0.01]\n",
        "for p in penalty:\n",
        "    for c in c_values:\n",
        "        for lr in learning_rate:\n",
        "            logreg = LogisticRegression_(regularization=p, C=c, learning_rate=lr, max_iter=1000)\n",
        "            logreg.fit(X_train, y_train)\n",
        "            y_pred = logreg.predict(X_test)\n",
        "            print(\"The test accuracy score of a custom Logistic Regression is: \", accuracy_score(y_test, y_pred))"
      ]
    },
    {
      "cell_type": "markdown",
      "id": "t8JYSU-peuXJ",
      "metadata": {
        "id": "t8JYSU-peuXJ"
      },
      "source": [
        "##### Sklearn"
      ]
    },
    {
      "cell_type": "code",
      "execution_count": null,
      "id": "JrNzEgmVpqXe",
      "metadata": {
        "colab": {
          "base_uri": "https://localhost:8080/"
        },
        "id": "JrNzEgmVpqXe",
        "outputId": "9c743f7d-691d-43c3-f0ff-977c7861b350"
      },
      "outputs": [
        {
          "name": "stdout",
          "output_type": "stream",
          "text": [
            "The test accuracy score of Logistric Regression is  0.9016393442622951\n",
            "The test accuracy score of Logistric Regression is  0.9016393442622951\n",
            "The test accuracy score of Logistric Regression is  0.9016393442622951\n",
            "The test accuracy score of Logistric Regression is  0.9016393442622951\n",
            "The test accuracy score of Logistric Regression is  0.9016393442622951\n",
            "The test accuracy score of Logistric Regression is  0.9016393442622951\n",
            "The test accuracy score of Logistric Regression is  0.9016393442622951\n",
            "The test accuracy score of Logistric Regression is  0.9016393442622951\n",
            "The test accuracy score of Logistric Regression is  0.9016393442622951\n",
            "The test accuracy score of Logistric Regression is  0.9016393442622951\n",
            "The test accuracy score of Logistric Regression is  0.9016393442622951\n",
            "The test accuracy score of Logistric Regression is  0.9016393442622951\n",
            "The test accuracy score of Logistric Regression is  0.9016393442622951\n",
            "The test accuracy score of Logistric Regression is  0.9016393442622951\n",
            "The test accuracy score of Logistric Regression is  0.9016393442622951\n",
            "The test accuracy score of Logistric Regression is  0.9016393442622951\n",
            "The test accuracy score of Logistric Regression is  0.9016393442622951\n"
          ]
        }
      ],
      "source": [
        "# solvers = ['liblinear']\n",
        "penalty = ['l1', 'l2', 'none']\n",
        "c_values = [100, 10, 1.0, 0.1, 0.01]\n",
        "\n",
        "# check different hyperparameter values\n",
        "for p in penalty:\n",
        "    for c in c_values:\n",
        "        logreg = LogisticRegression()\n",
        "        logreg.fit(X_train, np.ravel(y_train))\n",
        "        y_pred_proba = logreg.predict_proba(X_test)\n",
        "        y_pred = np.argmax(y_pred_proba,axis=1)\n",
        "        print(\"The test accuracy score of Logistric Regression is \", accuracy_score(y_test, y_pred))\n",
        "\n",
        "# fitting log-transformed data (all columns)\n",
        "logreg.fit(X_log_train, np.ravel(y_log_train))\n",
        "y_log_pred_proba = logreg.predict_proba(X_log_test)\n",
        "y_log_pred = np.argmax(y_log_pred_proba,axis=1)\n",
        "print(\"The test accuracy score of Logistric Regression is \", accuracy_score(y_log_test, y_log_pred))\n",
        "\n",
        "# fitting log-transformed data (selected columns)\n",
        "logreg.fit(X_log1_train, np.ravel(y_log1_train))\n",
        "y_log1_pred_proba = logreg.predict_proba(X_log1_test)\n",
        "y_log1_pred = np.argmax(y_log1_pred_proba,axis=1)\n",
        "print(\"The test accuracy score of Logistric Regression is \", accuracy_score(y_log1_test, y_log1_pred))"
      ]
    },
    {
      "cell_type": "markdown",
      "id": "aacf592f",
      "metadata": {},
      "source": [
        "### Conclusions\n",
        "\n",
        "TODO"
      ]
    }
  ],
  "metadata": {
    "colab": {
      "collapsed_sections": [
        "zigYQbFu024X"
      ],
      "provenance": [],
      "toc_visible": true
    },
    "kernelspec": {
      "display_name": "Python 3.10.5 64-bit",
      "language": "python",
      "name": "python3"
    },
    "language_info": {
      "codemirror_mode": {
        "name": "ipython",
        "version": 3
      },
      "file_extension": ".py",
      "mimetype": "text/x-python",
      "name": "python",
      "nbconvert_exporter": "python",
      "pygments_lexer": "ipython3",
      "version": "3.10.5"
    },
    "vscode": {
      "interpreter": {
        "hash": "c56527485b7c9dd36c8c8808345694ae9d0a642c0f00dfb6356f9a65494ceb50"
      }
    }
  },
  "nbformat": 4,
  "nbformat_minor": 5
}
